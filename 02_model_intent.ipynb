{
 "cells": [
  {
   "cell_type": "code",
   "execution_count": 1,
   "metadata": {
    "collapsed": false
   },
   "outputs": [],
   "source": [
    "%matplotlib inline\n",
    "\n",
    "from __future__ import print_function\n",
    "import os\n",
    "import sys\n",
    "from operator import add, itemgetter\n",
    "import json\n",
    "from gzip import GzipFile\n",
    "from functools import partial\n",
    "from collections import OrderedDict\n",
    "import pickle\n",
    "\n",
    "import pandas as pd\n",
    "import numpy as np\n",
    "from sklearn.linear_model import LogisticRegression\n",
    "from sklearn.model_selection import train_test_split\n",
    "from sklearn import metrics\n",
    "import matplotlib.pyplot as plt\n",
    "import seaborn as sns"
   ]
  },
  {
   "cell_type": "code",
   "execution_count": 2,
   "metadata": {
    "collapsed": true
   },
   "outputs": [],
   "source": [
    "DATDIR = \".\"\n",
    "DATFILES = [\n",
    "    \"teslatweet_2017-1-5.gz\",\n",
    "    \"teslatweet_2017-1-6.gz\",\n",
    "]\n",
    "LABELED = [\"tesla_tweets_rand_for_label_2017-1-6_labeled.csv\"]\n",
    "label_key_f = 'labels_tesla.txt'"
   ]
  },
  {
   "cell_type": "markdown",
   "metadata": {},
   "source": [
    "## Labels"
   ]
  },
  {
   "cell_type": "code",
   "execution_count": 3,
   "metadata": {
    "collapsed": false,
    "scrolled": true
   },
   "outputs": [
    {
     "name": "stdout",
     "output_type": "stream",
     "text": [
      "0 = can't judge (in another language, only a link, etc)\n",
      "n = not about tesla company/product\n",
      "m = only about Musk himself\n",
      "v = about business, news, current events\n",
      "i = by an individual\n",
      "c = by a company\n",
      "d = individual consumer desire/opinion\n",
      "b = intent to buy\n",
      "+- = positive or negative sentiment\n"
     ]
    }
   ],
   "source": [
    "with open(label_key_f) as f:\n",
    "    label_key = f.read()\n",
    "print(label_key)"
   ]
  },
  {
   "cell_type": "code",
   "execution_count": 4,
   "metadata": {
    "collapsed": true
   },
   "outputs": [],
   "source": [
    "lab = pd.read_csv(LABELED[0])"
   ]
  },
  {
   "cell_type": "code",
   "execution_count": 5,
   "metadata": {
    "collapsed": true
   },
   "outputs": [],
   "source": [
    "lab['labels'] = lab['labels'].fillna('')"
   ]
  },
  {
   "cell_type": "code",
   "execution_count": 6,
   "metadata": {
    "collapsed": false
   },
   "outputs": [
    {
     "name": "stdout",
     "output_type": "stream",
     "text": [
      "<class 'pandas.core.frame.DataFrame'>\n",
      "RangeIndex: 4695 entries, 0 to 4694\n",
      "Data columns (total 9 columns):\n",
      "id_str              4695 non-null int64\n",
      "created_at          4695 non-null object\n",
      "user_name           4695 non-null object\n",
      "user_screen_name    4695 non-null object\n",
      "user_protected      4695 non-null bool\n",
      "user_verified       4695 non-null bool\n",
      "lang                4695 non-null object\n",
      "labels              4695 non-null object\n",
      "text                4695 non-null object\n",
      "dtypes: bool(2), int64(1), object(6)\n",
      "memory usage: 266.0+ KB\n"
     ]
    }
   ],
   "source": [
    "lab.info()"
   ]
  },
  {
   "cell_type": "code",
   "execution_count": 7,
   "metadata": {
    "collapsed": false
   },
   "outputs": [
    {
     "data": {
      "text/plain": [
       "       4379\n",
       "v       123\n",
       "0        47\n",
       "vi       46\n",
       "n        45\n",
       "m        16\n",
       "d+       11\n",
       "vc       10\n",
       "d-        3\n",
       "d         3\n",
       "cv        2\n",
       "id        2\n",
       "i         1\n",
       "di        1\n",
       "db+       1\n",
       "ni        1\n",
       "c+        1\n",
       "id+       1\n",
       "iv        1\n",
       "vi-       1\n",
       "Name: labels, dtype: int64"
      ]
     },
     "execution_count": 7,
     "metadata": {},
     "output_type": "execute_result"
    }
   ],
   "source": [
    "lab['labels'].value_counts()"
   ]
  },
  {
   "cell_type": "code",
   "execution_count": 8,
   "metadata": {
    "collapsed": false
   },
   "outputs": [
    {
     "data": {
      "text/plain": [
       "True     4379\n",
       "False     316\n",
       "Name: labels, dtype: int64"
      ]
     },
     "execution_count": 8,
     "metadata": {},
     "output_type": "execute_result"
    }
   ],
   "source": [
    "(lab['labels'] == '').value_counts()"
   ]
  },
  {
   "cell_type": "code",
   "execution_count": 9,
   "metadata": {
    "collapsed": true
   },
   "outputs": [],
   "source": [
    "def str_to_bool_series(s, prefix='label_'):\n",
    "    return pd.Series({prefix + char: True for char in s})\n",
    "\n",
    "def str_to_bool_df_row(s):\n",
    "    return pd.DataFrame.from_records({char: True for char in s})\n",
    "\n",
    "def iter_to_bool_cols(series, field, prefix='label_'):\n",
    "    return pd.concat([series, str_to_bool_series(series.loc[field], prefix=prefix)])\n"
   ]
  },
  {
   "cell_type": "code",
   "execution_count": 10,
   "metadata": {
    "collapsed": false,
    "scrolled": true
   },
   "outputs": [],
   "source": [
    "lab2 = lab.apply(partial(iter_to_bool_cols, field='labels', prefix='L_'), axis=1)"
   ]
  },
  {
   "cell_type": "code",
   "execution_count": 11,
   "metadata": {
    "collapsed": true
   },
   "outputs": [],
   "source": [
    "label_cols = [col for col in lab2.columns if col.startswith('L_')]\n",
    "lab2.loc[:, label_cols] = lab2.loc[:, label_cols].fillna(False)"
   ]
  },
  {
   "cell_type": "code",
   "execution_count": 12,
   "metadata": {
    "collapsed": false
   },
   "outputs": [
    {
     "name": "stdout",
     "output_type": "stream",
     "text": [
      "<class 'pandas.core.frame.DataFrame'>\n",
      "RangeIndex: 4695 entries, 0 to 4694\n",
      "Data columns (total 19 columns):\n",
      "L_+                 4695 non-null bool\n",
      "L_-                 4695 non-null bool\n",
      "L_0                 4695 non-null bool\n",
      "L_b                 4695 non-null bool\n",
      "L_c                 4695 non-null bool\n",
      "L_d                 4695 non-null bool\n",
      "L_i                 4695 non-null bool\n",
      "L_m                 4695 non-null bool\n",
      "L_n                 4695 non-null bool\n",
      "L_v                 4695 non-null bool\n",
      "created_at          4695 non-null object\n",
      "id_str              4695 non-null int64\n",
      "labels              4695 non-null object\n",
      "lang                4695 non-null object\n",
      "text                4695 non-null object\n",
      "user_name           4695 non-null object\n",
      "user_protected      4695 non-null bool\n",
      "user_screen_name    4695 non-null object\n",
      "user_verified       4695 non-null bool\n",
      "dtypes: bool(12), int64(1), object(6)\n",
      "memory usage: 311.9+ KB\n"
     ]
    }
   ],
   "source": [
    "lab2.info()"
   ]
  },
  {
   "cell_type": "code",
   "execution_count": 13,
   "metadata": {
    "collapsed": false
   },
   "outputs": [
    {
     "data": {
      "text/plain": [
       "L_d    L_b  \n",
       "False  False    4673\n",
       "True   False      21\n",
       "       True        1\n",
       "dtype: int64"
      ]
     },
     "execution_count": 13,
     "metadata": {},
     "output_type": "execute_result"
    }
   ],
   "source": [
    "lab2.groupby(['L_d', 'L_b']).size()"
   ]
  },
  {
   "cell_type": "code",
   "execution_count": 14,
   "metadata": {
    "collapsed": false
   },
   "outputs": [
    {
     "name": "stdout",
     "output_type": "stream",
     "text": [
      "<class 'pandas.core.frame.DataFrame'>\n",
      "Int64Index: 316 entries, 0 to 315\n",
      "Data columns (total 19 columns):\n",
      "L_+                 316 non-null bool\n",
      "L_-                 316 non-null bool\n",
      "L_0                 316 non-null bool\n",
      "L_b                 316 non-null bool\n",
      "L_c                 316 non-null bool\n",
      "L_d                 316 non-null bool\n",
      "L_i                 316 non-null bool\n",
      "L_m                 316 non-null bool\n",
      "L_n                 316 non-null bool\n",
      "L_v                 316 non-null bool\n",
      "created_at          316 non-null object\n",
      "id_str              316 non-null int64\n",
      "labels              316 non-null object\n",
      "lang                316 non-null object\n",
      "text                316 non-null object\n",
      "user_name           316 non-null object\n",
      "user_protected      316 non-null bool\n",
      "user_screen_name    316 non-null object\n",
      "user_verified       316 non-null bool\n",
      "dtypes: bool(12), int64(1), object(6)\n",
      "memory usage: 23.5+ KB\n"
     ]
    }
   ],
   "source": [
    "lab3 = lab2.ix[lab2['labels'] != '']\n",
    "lab3.info()"
   ]
  },
  {
   "cell_type": "markdown",
   "metadata": {},
   "source": [
    "## Merge with Features"
   ]
  },
  {
   "cell_type": "code",
   "execution_count": 15,
   "metadata": {
    "collapsed": false
   },
   "outputs": [],
   "source": [
    "rawlines = []\n",
    "rawtext = ''\n",
    "for F in DATFILES:\n",
    "    with GzipFile(os.path.join(DATDIR, F)) as f:\n",
    "        rawlines.extend(f.readlines())\n",
    "        f.seek(0)\n",
    "        rawtext += f.read().decode(encoding='utf-8')\n"
   ]
  },
  {
   "cell_type": "code",
   "execution_count": 16,
   "metadata": {
    "collapsed": true
   },
   "outputs": [],
   "source": [
    "rawlines2 = rawtext.split('\\n')\n",
    "rawlines2 = tuple(set(filter(bool, rawlines2)))"
   ]
  },
  {
   "cell_type": "code",
   "execution_count": 17,
   "metadata": {
    "collapsed": false
   },
   "outputs": [
    {
     "data": {
      "text/plain": [
       "((9172, 53131676), (9166, 53089832))"
      ]
     },
     "execution_count": 17,
     "metadata": {},
     "output_type": "execute_result"
    }
   ],
   "source": [
    "(\n",
    "    (len(rawlines), sum(map(len, rawlines))),\n",
    "    (len(rawlines2), sum(map(len, rawlines2)))\n",
    ")"
   ]
  },
  {
   "cell_type": "code",
   "execution_count": 18,
   "metadata": {
    "collapsed": false
   },
   "outputs": [],
   "source": [
    "records = tuple(map(json.loads, rawlines2))"
   ]
  },
  {
   "cell_type": "code",
   "execution_count": 19,
   "metadata": {
    "collapsed": false
   },
   "outputs": [],
   "source": [
    "full = pd.DataFrame.from_records(records)"
   ]
  },
  {
   "cell_type": "code",
   "execution_count": 20,
   "metadata": {
    "collapsed": false
   },
   "outputs": [],
   "source": [
    "user_df = pd.DataFrame.from_items(full['user'].iteritems()).T\n",
    "user_df.columns = ['user_' + c for c in user_df.columns]\n",
    "full2 = pd.concat([full, user_df], axis=1)\n",
    "# del full2['user']"
   ]
  },
  {
   "cell_type": "code",
   "execution_count": 21,
   "metadata": {
    "collapsed": false
   },
   "outputs": [
    {
     "name": "stdout",
     "output_type": "stream",
     "text": [
      "<class 'pandas.core.frame.DataFrame'>\n",
      "RangeIndex: 9166 entries, 0 to 9165\n",
      "Data columns (total 71 columns):\n",
      "contributors                               0 non-null object\n",
      "coordinates                                6 non-null object\n",
      "created_at                                 9166 non-null object\n",
      "display_text_range                         1359 non-null object\n",
      "entities                                   9166 non-null object\n",
      "extended_entities                          3636 non-null object\n",
      "extended_tweet                             233 non-null object\n",
      "favorite_count                             9166 non-null int64\n",
      "favorited                                  9166 non-null bool\n",
      "filter_level                               9166 non-null object\n",
      "geo                                        6 non-null object\n",
      "id                                         9166 non-null int64\n",
      "id_str                                     9166 non-null object\n",
      "in_reply_to_screen_name                    448 non-null object\n",
      "in_reply_to_status_id                      328 non-null float64\n",
      "in_reply_to_status_id_str                  328 non-null object\n",
      "in_reply_to_user_id                        448 non-null float64\n",
      "in_reply_to_user_id_str                    448 non-null object\n",
      "is_quote_status                            9166 non-null bool\n",
      "lang                                       9166 non-null object\n",
      "place                                      91 non-null object\n",
      "possibly_sensitive                         7101 non-null object\n",
      "quoted_status                              613 non-null object\n",
      "quoted_status_id                           613 non-null float64\n",
      "quoted_status_id_str                       613 non-null object\n",
      "retweet_count                              9166 non-null int64\n",
      "retweeted                                  9166 non-null bool\n",
      "retweeted_status                           5271 non-null object\n",
      "source                                     9166 non-null object\n",
      "text                                       9166 non-null object\n",
      "timestamp_ms                               9166 non-null object\n",
      "truncated                                  9166 non-null bool\n",
      "user                                       9166 non-null object\n",
      "user_contributors_enabled                  9166 non-null object\n",
      "user_created_at                            9166 non-null object\n",
      "user_default_profile                       9166 non-null object\n",
      "user_default_profile_image                 9166 non-null object\n",
      "user_description                           8125 non-null object\n",
      "user_favourites_count                      9166 non-null object\n",
      "user_follow_request_sent                   0 non-null object\n",
      "user_followers_count                       9166 non-null object\n",
      "user_following                             0 non-null object\n",
      "user_friends_count                         9166 non-null object\n",
      "user_geo_enabled                           9166 non-null object\n",
      "user_id                                    9166 non-null object\n",
      "user_id_str                                9166 non-null object\n",
      "user_is_translator                         9166 non-null object\n",
      "user_lang                                  9166 non-null object\n",
      "user_listed_count                          9166 non-null object\n",
      "user_location                              6634 non-null object\n",
      "user_name                                  9166 non-null object\n",
      "user_notifications                         0 non-null object\n",
      "user_profile_background_color              9166 non-null object\n",
      "user_profile_background_image_url          9166 non-null object\n",
      "user_profile_background_image_url_https    9166 non-null object\n",
      "user_profile_background_tile               9166 non-null object\n",
      "user_profile_banner_url                    7483 non-null object\n",
      "user_profile_image_url                     9166 non-null object\n",
      "user_profile_image_url_https               9166 non-null object\n",
      "user_profile_link_color                    9166 non-null object\n",
      "user_profile_sidebar_border_color          9166 non-null object\n",
      "user_profile_sidebar_fill_color            9166 non-null object\n",
      "user_profile_text_color                    9166 non-null object\n",
      "user_profile_use_background_image          9166 non-null object\n",
      "user_protected                             9166 non-null object\n",
      "user_screen_name                           9166 non-null object\n",
      "user_statuses_count                        9166 non-null object\n",
      "user_time_zone                             6044 non-null object\n",
      "user_url                                   4156 non-null object\n",
      "user_utc_offset                            6044 non-null object\n",
      "user_verified                              9166 non-null object\n",
      "dtypes: bool(4), float64(3), int64(3), object(61)\n",
      "memory usage: 4.7+ MB\n"
     ]
    }
   ],
   "source": [
    "full2.info()"
   ]
  },
  {
   "cell_type": "code",
   "execution_count": 22,
   "metadata": {
    "collapsed": false
   },
   "outputs": [
    {
     "data": {
      "text/plain": [
       "RT @historyimg: 1月7日はニコラ・テスラの命日\\nNikola Tesla (1856-1943)\\n\\n数百万ボルトが放電する横で読書するニコラ・テスラ https://t.co/qe7qij6hYa                                   2426\n",
       "RT @ReformedBroker: If you drive off in a stolen Tesla, it becomes an Edison.                                                                    297\n",
       "RT @MKBHD: For everyone saying I should compare the Tesla to the Faraday Future FF91... I rode in it, and a video is coming... https://t.co…     179\n",
       "RT @BillRattner: Tesla/Blockchain UAE GovHack Preview https://t.co/aaAtTGhpJj via @YouTube                                                       102\n",
       "RT @MachineVids: Tesla Coil https://t.co/el93VKEPaI                                                                                               90\n",
       "Name: text, dtype: int64"
      ]
     },
     "execution_count": 22,
     "metadata": {},
     "output_type": "execute_result"
    }
   ],
   "source": [
    "full2.text.value_counts().head()"
   ]
  },
  {
   "cell_type": "code",
   "execution_count": 23,
   "metadata": {
    "collapsed": false
   },
   "outputs": [],
   "source": [
    "lab_meta = full2.merge(\n",
    "    lab3,\n",
    "    how='right', \n",
    "    left_on='text', \n",
    "    right_on='text',\n",
    "    suffixes=('', '_LABELVERS')\n",
    ")"
   ]
  },
  {
   "cell_type": "code",
   "execution_count": 24,
   "metadata": {
    "collapsed": false
   },
   "outputs": [],
   "source": [
    "lab_meta.set_index('id', drop=False, inplace=True, verify_integrity=True)"
   ]
  },
  {
   "cell_type": "code",
   "execution_count": 25,
   "metadata": {
    "collapsed": false,
    "scrolled": true
   },
   "outputs": [
    {
     "name": "stdout",
     "output_type": "stream",
     "text": [
      "<class 'pandas.core.frame.DataFrame'>\n",
      "Int64Index: 4201 entries, 817106587190001664 to 817466399304142849\n",
      "Data columns (total 89 columns):\n",
      "contributors                               0 non-null object\n",
      "coordinates                                0 non-null object\n",
      "created_at                                 4201 non-null object\n",
      "display_text_range                         75 non-null object\n",
      "entities                                   4201 non-null object\n",
      "extended_entities                          2782 non-null object\n",
      "extended_tweet                             16 non-null object\n",
      "favorite_count                             4201 non-null int64\n",
      "favorited                                  4201 non-null bool\n",
      "filter_level                               4201 non-null object\n",
      "geo                                        0 non-null object\n",
      "id                                         4201 non-null int64\n",
      "id_str                                     4201 non-null object\n",
      "in_reply_to_screen_name                    26 non-null object\n",
      "in_reply_to_status_id                      19 non-null float64\n",
      "in_reply_to_status_id_str                  19 non-null object\n",
      "in_reply_to_user_id                        26 non-null float64\n",
      "in_reply_to_user_id_str                    26 non-null object\n",
      "is_quote_status                            4201 non-null bool\n",
      "lang                                       4201 non-null object\n",
      "place                                      6 non-null object\n",
      "possibly_sensitive                         3273 non-null object\n",
      "quoted_status                              92 non-null object\n",
      "quoted_status_id                           92 non-null float64\n",
      "quoted_status_id_str                       92 non-null object\n",
      "retweet_count                              4201 non-null int64\n",
      "retweeted                                  4201 non-null bool\n",
      "retweeted_status                           3976 non-null object\n",
      "source                                     4201 non-null object\n",
      "text                                       4201 non-null object\n",
      "timestamp_ms                               4201 non-null object\n",
      "truncated                                  4201 non-null bool\n",
      "user                                       4201 non-null object\n",
      "user_contributors_enabled                  4201 non-null object\n",
      "user_created_at                            4201 non-null object\n",
      "user_default_profile                       4201 non-null object\n",
      "user_default_profile_image                 4201 non-null object\n",
      "user_description                           3881 non-null object\n",
      "user_favourites_count                      4201 non-null object\n",
      "user_follow_request_sent                   0 non-null object\n",
      "user_followers_count                       4201 non-null object\n",
      "user_following                             0 non-null object\n",
      "user_friends_count                         4201 non-null object\n",
      "user_geo_enabled                           4201 non-null object\n",
      "user_id                                    4201 non-null object\n",
      "user_id_str                                4201 non-null object\n",
      "user_is_translator                         4201 non-null object\n",
      "user_lang                                  4201 non-null object\n",
      "user_listed_count                          4201 non-null object\n",
      "user_location                              3025 non-null object\n",
      "user_name                                  4201 non-null object\n",
      "user_notifications                         0 non-null object\n",
      "user_profile_background_color              4201 non-null object\n",
      "user_profile_background_image_url          4201 non-null object\n",
      "user_profile_background_image_url_https    4201 non-null object\n",
      "user_profile_background_tile               4201 non-null object\n",
      "user_profile_banner_url                    3584 non-null object\n",
      "user_profile_image_url                     4201 non-null object\n",
      "user_profile_image_url_https               4201 non-null object\n",
      "user_profile_link_color                    4201 non-null object\n",
      "user_profile_sidebar_border_color          4201 non-null object\n",
      "user_profile_sidebar_fill_color            4201 non-null object\n",
      "user_profile_text_color                    4201 non-null object\n",
      "user_profile_use_background_image          4201 non-null object\n",
      "user_protected                             4201 non-null object\n",
      "user_screen_name                           4201 non-null object\n",
      "user_statuses_count                        4201 non-null object\n",
      "user_time_zone                             2784 non-null object\n",
      "user_url                                   1508 non-null object\n",
      "user_utc_offset                            2784 non-null object\n",
      "user_verified                              4201 non-null object\n",
      "L_+                                        4201 non-null bool\n",
      "L_-                                        4201 non-null bool\n",
      "L_0                                        4201 non-null bool\n",
      "L_b                                        4201 non-null bool\n",
      "L_c                                        4201 non-null bool\n",
      "L_d                                        4201 non-null bool\n",
      "L_i                                        4201 non-null bool\n",
      "L_m                                        4201 non-null bool\n",
      "L_n                                        4201 non-null bool\n",
      "L_v                                        4201 non-null bool\n",
      "created_at_LABELVERS                       4201 non-null object\n",
      "id_str_LABELVERS                           4201 non-null int64\n",
      "labels                                     4201 non-null object\n",
      "lang_LABELVERS                             4201 non-null object\n",
      "user_name_LABELVERS                        4201 non-null object\n",
      "user_protected_LABELVERS                   4201 non-null bool\n",
      "user_screen_name_LABELVERS                 4201 non-null object\n",
      "user_verified_LABELVERS                    4201 non-null bool\n",
      "dtypes: bool(16), float64(3), int64(4), object(66)\n",
      "memory usage: 2.4+ MB\n"
     ]
    }
   ],
   "source": [
    "lab_meta.info()"
   ]
  },
  {
   "cell_type": "markdown",
   "metadata": {},
   "source": [
    "### Balance out the classes"
   ]
  },
  {
   "cell_type": "code",
   "execution_count": 26,
   "metadata": {
    "collapsed": true
   },
   "outputs": [],
   "source": [
    "pos_ixs = lab_meta.ix[lab_meta['L_d'], 'id']\n",
    "neg_ixs = lab_meta.ix[~lab_meta['L_d'], 'id']"
   ]
  },
  {
   "cell_type": "code",
   "execution_count": 27,
   "metadata": {
    "collapsed": false
   },
   "outputs": [
    {
     "data": {
      "text/plain": [
       "(283, 3918)"
      ]
     },
     "execution_count": 27,
     "metadata": {},
     "output_type": "execute_result"
    }
   ],
   "source": [
    "tuple(map(len, (pos_ixs, neg_ixs)))"
   ]
  },
  {
   "cell_type": "code",
   "execution_count": 28,
   "metadata": {
    "collapsed": true
   },
   "outputs": [],
   "source": [
    "pos_ixs_upsamp = np.random.choice(pos_ixs, 3000)"
   ]
  },
  {
   "cell_type": "code",
   "execution_count": 29,
   "metadata": {
    "collapsed": false,
    "scrolled": false
   },
   "outputs": [
    {
     "data": {
      "text/plain": [
       "<matplotlib.axes._subplots.AxesSubplot at 0x1372bd208>"
      ]
     },
     "execution_count": 29,
     "metadata": {},
     "output_type": "execute_result"
    },
    {
     "data": {
      "image/png": "[encoded data removed]",
      "text/plain": [
       "<matplotlib.figure.Figure at 0x137fbb6d8>"
      ]
     },
     "metadata": {},
     "output_type": "display_data"
    }
   ],
   "source": [
    "pd.Series(pos_ixs_upsamp).value_counts().hist()"
   ]
  },
  {
   "cell_type": "markdown",
   "metadata": {},
   "source": [
    "## Create features"
   ]
  },
  {
   "cell_type": "markdown",
   "metadata": {},
   "source": [
    "### Explore possible features"
   ]
  },
  {
   "cell_type": "markdown",
   "metadata": {},
   "source": [
    "Entities: get number of hashtags, symbols, urls, and user_mentions"
   ]
  },
  {
   "cell_type": "code",
   "execution_count": 30,
   "metadata": {
    "collapsed": false
   },
   "outputs": [
    {
     "data": {
      "text/plain": [
       "{'hashtags': [],\n",
       " 'symbols': [],\n",
       " 'urls': [{'display_url': 'tesla.com/blog/battery-c…',\n",
       "   'expanded_url': 'https://www.tesla.com/blog/battery-cell-production-begins-gigafactory',\n",
       "   'indices': [67, 90],\n",
       "   'url': 'https://t.co/xrFl4tChBx'}],\n",
       " 'user_mentions': [{'id': 13298072,\n",
       "   'id_str': '13298072',\n",
       "   'indices': [3, 15],\n",
       "   'name': 'Tesla',\n",
       "   'screen_name': 'TeslaMotors'}]}"
      ]
     },
     "execution_count": 30,
     "metadata": {},
     "output_type": "execute_result"
    }
   ],
   "source": [
    "full2['entities'].iloc[0]"
   ]
  },
  {
   "cell_type": "code",
   "execution_count": 31,
   "metadata": {
    "collapsed": false
   },
   "outputs": [
    {
     "data": {
      "text/plain": [
       "dict_keys(['symbols', 'hashtags', 'urls', 'user_mentions'])"
      ]
     },
     "execution_count": 31,
     "metadata": {},
     "output_type": "execute_result"
    }
   ],
   "source": [
    "full2['entities'].iloc[0].keys()"
   ]
  },
  {
   "cell_type": "code",
   "execution_count": 33,
   "metadata": {
    "collapsed": true
   },
   "outputs": [],
   "source": [
    "def get_val_len(dict_, key):\n",
    "    return len(dict_[key])\n",
    "\n",
    "def entity_val_len_getter(field, subfield):\n",
    "    def get_entity_val_len(df):\n",
    "        return df[field].map(partial(get_val_len, key=subfield))\n",
    "    return get_entity_val_len\n",
    "    \n"
   ]
  },
  {
   "cell_type": "code",
   "execution_count": 34,
   "metadata": {
    "collapsed": false
   },
   "outputs": [],
   "source": [
    "_x = full2['entities'].map(partial(get_val_len, key='hashtags'))"
   ]
  },
  {
   "cell_type": "code",
   "execution_count": 35,
   "metadata": {
    "collapsed": false
   },
   "outputs": [
    {
     "data": {
      "text/plain": [
       "<matplotlib.axes._subplots.AxesSubplot at 0x13771eb70>"
      ]
     },
     "execution_count": 35,
     "metadata": {},
     "output_type": "execute_result"
    },
    {
     "data": {
      "image/png": "[encoded data removed]",
      "text/plain": [
       "<matplotlib.figure.Figure at 0x137fec048>"
      ]
     },
     "metadata": {},
     "output_type": "display_data"
    }
   ],
   "source": [
    "_x.hist(log=True)"
   ]
  },
  {
   "cell_type": "markdown",
   "metadata": {},
   "source": [
    "### Extract all features"
   ]
  },
  {
   "cell_type": "code",
   "execution_count": 36,
   "metadata": {
    "collapsed": true
   },
   "outputs": [],
   "source": [
    "def func_applier(df, func_dict):\n",
    "    \"\"\"keys are the labels for the output series. Values are funcs \n",
    "    expecting a series\"\"\"\n",
    "    return pd.DataFrame(\n",
    "        OrderedDict((\n",
    "            (name, func(df)) \n",
    "            for name, func in func_dict.items()\n",
    "        )), \n",
    "        index=df.index\n",
    "    )\n"
   ]
  },
  {
   "cell_type": "code",
   "execution_count": 37,
   "metadata": {
    "collapsed": false
   },
   "outputs": [],
   "source": [
    "def get_label(rec, label_col='L_d'):\n",
    "    return rec[label_col]\n",
    "\n",
    "feat_only_funcs = OrderedDict(\n",
    "    (\n",
    "        ('text_len', lambda rec: rec['text'].str.len()),\n",
    "        ('user_protected', lambda rec: rec['user_protected']),\n",
    "        ('user_verified', lambda rec: rec['user_verified']),\n",
    "        ('is_quote', lambda rec: rec['quoted_status'].isnull()),\n",
    "        ('is_retweet', lambda rec: rec['retweeted_status'].isnull()),\n",
    "        ('user_mentions_n', entity_val_len_getter('entities', 'user_mentions')),\n",
    "        ('urls_n', entity_val_len_getter('entities', 'urls')),\n",
    "        ('hashtags_n', entity_val_len_getter('entities', 'hashtags')),\n",
    "        ('symbols_n', entity_val_len_getter('entities', 'symbols')),\n",
    "    )\n",
    ")\n",
    "\n",
    "feat_funcs = OrderedDict(\n",
    "    (('L_d', get_label),) + tuple(feat_only_funcs.items())\n",
    ")\n",
    "\n",
    "def is_field_nonnull(obj, field):\n",
    "    \"\"\"Check whether obj[field] is null (None or numpy.nan)\"\"\"\n",
    "    if field not in obj:\n",
    "        return False\n",
    "    else:\n",
    "        return not pd.isnull(obj[field])\n",
    "\n",
    "def subfield_getter(obj, field_seq):\n",
    "    \"\"\"Recursively get items from obj based on field_seq\"\"\"\n",
    "    if len(field_seq) == 0:\n",
    "        return obj\n",
    "    elif field_seq[0] not in obj:\n",
    "        return None\n",
    "    else:\n",
    "        return subfield_getter(obj[field_seq[0]], field_seq[1:])\n",
    "\n",
    "def subfield_func_apply(obj, field_seq, func=len):\n",
    "    return func(subfield_getter(obj, field_seq))\n",
    "\n",
    "\n",
    "\n",
    "feat_only_per_rec_funcs = OrderedDict(\n",
    "    (\n",
    "        ('text_len', partial(subfield_func_apply, field_seq=('text',), func=len)),\n",
    "        ('user_protected', partial(subfield_getter, field_seq=('user', 'protected'))),\n",
    "        ('user_verified', partial(subfield_getter, field_seq=('user', 'verified'))),\n",
    "        ('is_quote', partial(is_field_nonnull, field='quoted_status')),\n",
    "        ('is_retweet', partial(is_field_nonnull, field='retweeted_status')),\n",
    "        ('user_mentions_n', partial(subfield_func_apply, field_seq=('entities', 'user_mentions'), func=len)),\n",
    "        ('urls_n', partial(subfield_func_apply, field_seq=('entities', 'urls'), func=len)),\n",
    "        ('hashtags_n', partial(subfield_func_apply, field_seq=('entities', 'hashtags'), func=len)),\n",
    "        ('symbols_n', partial(subfield_func_apply, field_seq=('entities', 'symbols'), func=len)),\n",
    "    )\n",
    ")\n"
   ]
  },
  {
   "cell_type": "code",
   "execution_count": 38,
   "metadata": {
    "collapsed": false
   },
   "outputs": [
    {
     "data": {
      "text/plain": [
       "odict_keys(['L_d', 'text_len', 'user_protected', 'user_verified', 'is_quote', 'is_retweet', 'user_mentions_n', 'urls_n', 'hashtags_n', 'symbols_n'])"
      ]
     },
     "execution_count": 38,
     "metadata": {},
     "output_type": "execute_result"
    }
   ],
   "source": [
    "feat_funcs.keys()"
   ]
  },
  {
   "cell_type": "code",
   "execution_count": 39,
   "metadata": {
    "collapsed": false
   },
   "outputs": [],
   "source": [
    "feats_df = func_applier(lab_meta, feat_funcs)"
   ]
  },
  {
   "cell_type": "code",
   "execution_count": 40,
   "metadata": {
    "collapsed": false
   },
   "outputs": [
    {
     "name": "stdout",
     "output_type": "stream",
     "text": [
      "<class 'pandas.core.frame.DataFrame'>\n",
      "Int64Index: 4201 entries, 817106587190001664 to 817466399304142849\n",
      "Data columns (total 10 columns):\n",
      "L_d                4201 non-null bool\n",
      "text_len           4201 non-null int64\n",
      "user_protected     4201 non-null object\n",
      "user_verified      4201 non-null object\n",
      "is_quote           4201 non-null bool\n",
      "is_retweet         4201 non-null bool\n",
      "user_mentions_n    4201 non-null int64\n",
      "urls_n             4201 non-null int64\n",
      "hashtags_n         4201 non-null int64\n",
      "symbols_n          4201 non-null int64\n",
      "dtypes: bool(3), int64(5), object(2)\n",
      "memory usage: 274.9+ KB\n"
     ]
    }
   ],
   "source": [
    "feats_df.info()"
   ]
  },
  {
   "cell_type": "code",
   "execution_count": 41,
   "metadata": {
    "collapsed": false
   },
   "outputs": [
    {
     "data": {
      "text/plain": [
       "user_protected  user_verified\n",
       "False           False            4179\n",
       "                True               22\n",
       "dtype: int64"
      ]
     },
     "execution_count": 41,
     "metadata": {},
     "output_type": "execute_result"
    }
   ],
   "source": [
    "lab_meta.groupby(['user_protected', 'user_verified']).size()"
   ]
  },
  {
   "cell_type": "code",
   "execution_count": 42,
   "metadata": {
    "collapsed": true
   },
   "outputs": [],
   "source": [
    "#feats_user = ['user_protected', 'user_verified']"
   ]
  },
  {
   "cell_type": "code",
   "execution_count": 43,
   "metadata": {
    "collapsed": false
   },
   "outputs": [],
   "source": [
    "X_train, X_test, y_train, y_test = train_test_split(\n",
    "    feats_df.iloc[:, 1:],\n",
    "    feats_df.iloc[:, 0],\n",
    "    test_size=0.3,\n",
    "    random_state=0\n",
    ")"
   ]
  },
  {
   "cell_type": "code",
   "execution_count": 44,
   "metadata": {
    "collapsed": false
   },
   "outputs": [
    {
     "data": {
      "text/plain": [
       "((2940, 9), (2940,))"
      ]
     },
     "execution_count": 44,
     "metadata": {},
     "output_type": "execute_result"
    }
   ],
   "source": [
    "X_train.shape, y_train.shape"
   ]
  },
  {
   "cell_type": "code",
   "execution_count": 45,
   "metadata": {
    "collapsed": false
   },
   "outputs": [
    {
     "data": {
      "text/plain": [
       "((1261, 9), (1261,))"
      ]
     },
     "execution_count": 45,
     "metadata": {},
     "output_type": "execute_result"
    }
   ],
   "source": [
    "X_test.shape, y_test.shape"
   ]
  },
  {
   "cell_type": "code",
   "execution_count": 46,
   "metadata": {
    "collapsed": false
   },
   "outputs": [
    {
     "data": {
      "text/plain": [
       "False    2743\n",
       "True      197\n",
       "Name: L_d, dtype: int64"
      ]
     },
     "execution_count": 46,
     "metadata": {},
     "output_type": "execute_result"
    }
   ],
   "source": [
    "y_train.value_counts()"
   ]
  },
  {
   "cell_type": "code",
   "execution_count": 47,
   "metadata": {
    "collapsed": false
   },
   "outputs": [
    {
     "data": {
      "text/plain": [
       "False    1175\n",
       "True       86\n",
       "Name: L_d, dtype: int64"
      ]
     },
     "execution_count": 47,
     "metadata": {},
     "output_type": "execute_result"
    }
   ],
   "source": [
    "y_test.value_counts()"
   ]
  },
  {
   "cell_type": "code",
   "execution_count": 48,
   "metadata": {
    "collapsed": false
   },
   "outputs": [],
   "source": [
    "clf = LogisticRegression().fit(X_train, y_train)"
   ]
  },
  {
   "cell_type": "code",
   "execution_count": 49,
   "metadata": {
    "collapsed": false
   },
   "outputs": [
    {
     "data": {
      "text/plain": [
       "0.9286280729579699"
      ]
     },
     "execution_count": 49,
     "metadata": {},
     "output_type": "execute_result"
    }
   ],
   "source": [
    "clf.score(X_test, y_test)"
   ]
  },
  {
   "cell_type": "code",
   "execution_count": 50,
   "metadata": {
    "collapsed": false
   },
   "outputs": [
    {
     "data": {
      "text/plain": [
       "array([[ 0.0672605 ,  0.        , -1.22927963, -0.7443322 ,  0.42521137,\n",
       "        -1.55615827, -2.8447946 , -0.08732621, -0.00714593]])"
      ]
     },
     "execution_count": 50,
     "metadata": {},
     "output_type": "execute_result"
    }
   ],
   "source": [
    "clf.coef_"
   ]
  },
  {
   "cell_type": "code",
   "execution_count": 51,
   "metadata": {
    "collapsed": false
   },
   "outputs": [
    {
     "data": {
      "text/plain": [
       "(('text_len', 0.067260497841607536),\n",
       " ('user_protected', 0.0),\n",
       " ('user_verified', -1.229279627947764),\n",
       " ('is_quote', -0.74433220341029682),\n",
       " ('is_retweet', 0.42521136655705233),\n",
       " ('user_mentions_n', -1.5561582726632286),\n",
       " ('urls_n', -2.8447945995848678),\n",
       " ('hashtags_n', -0.087326210086743128),\n",
       " ('symbols_n', -0.0071459293164147413))"
      ]
     },
     "execution_count": 51,
     "metadata": {},
     "output_type": "execute_result"
    }
   ],
   "source": [
    "tuple(zip(tuple(feat_funcs.keys())[1:], clf.coef_.ravel()))"
   ]
  },
  {
   "cell_type": "code",
   "execution_count": 52,
   "metadata": {
    "collapsed": false
   },
   "outputs": [
    {
     "data": {
      "text/plain": [
       "array([-7.68387851])"
      ]
     },
     "execution_count": 52,
     "metadata": {},
     "output_type": "execute_result"
    }
   ],
   "source": [
    "clf.intercept_"
   ]
  },
  {
   "cell_type": "code",
   "execution_count": 53,
   "metadata": {
    "collapsed": false
   },
   "outputs": [
    {
     "data": {
      "text/plain": [
       "array([False,  True], dtype=bool)"
      ]
     },
     "execution_count": 53,
     "metadata": {},
     "output_type": "execute_result"
    }
   ],
   "source": [
    "clf.classes_"
   ]
  },
  {
   "cell_type": "code",
   "execution_count": 54,
   "metadata": {
    "collapsed": false
   },
   "outputs": [],
   "source": [
    "X_test_proba = clf.predict_proba(X_test)"
   ]
  },
  {
   "cell_type": "code",
   "execution_count": 55,
   "metadata": {
    "collapsed": false
   },
   "outputs": [
    {
     "data": {
      "text/plain": [
       "array([ 0.00142226,  0.0319011 ,  0.01477452, ...,  0.05443598,\n",
       "        0.05443598,  0.00024066])"
      ]
     },
     "execution_count": 55,
     "metadata": {},
     "output_type": "execute_result"
    }
   ],
   "source": [
    "X_test_proba[:, 1]"
   ]
  },
  {
   "cell_type": "code",
   "execution_count": 56,
   "metadata": {
    "collapsed": false
   },
   "outputs": [
    {
     "data": {
      "text/plain": [
       "0.86679861454725371"
      ]
     },
     "execution_count": 56,
     "metadata": {},
     "output_type": "execute_result"
    }
   ],
   "source": [
    "roc_auc_ = metrics.roc_auc_score(y_test, X_test_proba[:, 1])\n",
    "roc_auc_"
   ]
  },
  {
   "cell_type": "code",
   "execution_count": 57,
   "metadata": {
    "collapsed": false
   },
   "outputs": [
    {
     "data": {
      "text/plain": [
       "array([ 0.00142226,  0.0319011 ,  0.01477452, ...,  0.05443598,\n",
       "        0.05443598,  0.00024066])"
      ]
     },
     "execution_count": 57,
     "metadata": {},
     "output_type": "execute_result"
    }
   ],
   "source": [
    "X_test_proba[:, 1]"
   ]
  },
  {
   "cell_type": "code",
   "execution_count": 58,
   "metadata": {
    "collapsed": true
   },
   "outputs": [],
   "source": [
    "fpr, tpr, thresh = metrics.roc_curve(y_test, X_test_proba[:, 1])"
   ]
  },
  {
   "cell_type": "code",
   "execution_count": 59,
   "metadata": {
    "collapsed": false,
    "scrolled": true
   },
   "outputs": [
    {
     "data": {
      "text/plain": [
       "(array([  0.00000000e+00,   8.51063830e-04,   3.40425532e-03,\n",
       "          1.87234043e-02,   2.80851064e-02,   2.89361702e-02,\n",
       "          3.65957447e-02,   4.00000000e-02,   4.34042553e-02,\n",
       "          4.68085106e-02,   4.68085106e-02,   4.85106383e-02,\n",
       "          4.85106383e-02,   4.93617021e-02,   5.27659574e-02,\n",
       "          6.65531915e-01,   6.69787234e-01,   6.71489362e-01,\n",
       "          6.79148936e-01,   6.80851064e-01,   6.90212766e-01,\n",
       "          6.93617021e-01,   6.95319149e-01,   6.99574468e-01,\n",
       "          7.07234043e-01,   7.12340426e-01,   7.15744681e-01,\n",
       "          7.16595745e-01,   7.33617021e-01,   7.39574468e-01,\n",
       "          7.40425532e-01,   7.44680851e-01,   7.49787234e-01,\n",
       "          7.49787234e-01,   7.50638298e-01,   7.58297872e-01,\n",
       "          7.61702128e-01,   7.63404255e-01,   7.66808511e-01,\n",
       "          7.68510638e-01,   7.70212766e-01,   7.71063830e-01,\n",
       "          7.77021277e-01,   7.77872340e-01,   7.80425532e-01,\n",
       "          8.55319149e-01,   8.57872340e-01,   8.57872340e-01,\n",
       "          8.58723404e-01,   8.60425532e-01,   8.71489362e-01,\n",
       "          8.76595745e-01,   8.86808511e-01,   8.87659574e-01,\n",
       "          8.93617021e-01,   8.95319149e-01,   8.96170213e-01,\n",
       "          8.97872340e-01,   9.00425532e-01,   9.07234043e-01,\n",
       "          9.08936170e-01,   9.11489362e-01,   9.13191489e-01,\n",
       "          9.35319149e-01,   9.35319149e-01,   9.38723404e-01,\n",
       "          9.55744681e-01,   9.59148936e-01,   9.60000000e-01,\n",
       "          9.60000000e-01,   9.63404255e-01,   9.65106383e-01,\n",
       "          9.70212766e-01,   9.95744681e-01,   9.98297872e-01,\n",
       "          9.98297872e-01,   1.00000000e+00]),\n",
       " array([ 0.        ,  0.        ,  0.        ,  0.        ,  0.        ,\n",
       "         0.68604651,  0.68604651,  0.68604651,  0.68604651,  0.68604651,\n",
       "         0.70930233,  0.70930233,  0.87209302,  0.87209302,  0.87209302,\n",
       "         0.87209302,  0.87209302,  0.87209302,  0.87209302,  0.87209302,\n",
       "         0.87209302,  0.87209302,  0.87209302,  0.87209302,  0.87209302,\n",
       "         0.87209302,  0.87209302,  0.87209302,  0.87209302,  0.87209302,\n",
       "         0.87209302,  0.87209302,  0.87209302,  0.94186047,  0.95348837,\n",
       "         0.95348837,  0.95348837,  0.95348837,  0.95348837,  0.95348837,\n",
       "         0.95348837,  0.95348837,  0.95348837,  0.95348837,  0.95348837,\n",
       "         0.95348837,  0.95348837,  0.96511628,  0.96511628,  0.96511628,\n",
       "         0.96511628,  0.96511628,  0.96511628,  0.96511628,  0.96511628,\n",
       "         0.96511628,  0.96511628,  0.96511628,  0.96511628,  0.96511628,\n",
       "         0.96511628,  0.96511628,  0.96511628,  0.96511628,  0.97674419,\n",
       "         0.97674419,  0.97674419,  0.97674419,  0.97674419,  0.98837209,\n",
       "         0.98837209,  0.98837209,  0.98837209,  0.98837209,  0.98837209,\n",
       "         1.        ,  1.        ]),\n",
       " array([  1.80431273e+00,   8.04312732e-01,   5.43994165e-01,\n",
       "          4.25836850e-01,   3.93319915e-01,   3.61721694e-01,\n",
       "          3.46341494e-01,   1.92892435e-01,   1.69959975e-01,\n",
       "          1.08715507e-01,   1.06780449e-01,   9.57300092e-02,\n",
       "          9.54002195e-02,   8.01558258e-02,   5.71685999e-02,\n",
       "          5.44359825e-02,   5.03352368e-02,   4.20505874e-02,\n",
       "          3.89238801e-02,   3.28666256e-02,   3.19010960e-02,\n",
       "          2.54204061e-02,   2.49331536e-02,   2.45972495e-02,\n",
       "          2.45608066e-02,   2.27095417e-02,   2.01633875e-02,\n",
       "          1.94557967e-02,   1.88765502e-02,   1.85084942e-02,\n",
       "          1.84053637e-02,   1.65399416e-02,   1.48006708e-02,\n",
       "          1.47745241e-02,   1.42532929e-02,   1.35586338e-02,\n",
       "          1.24389386e-02,   1.22393269e-02,   1.18723308e-02,\n",
       "          1.03935455e-02,   1.02242712e-02,   9.72403645e-03,\n",
       "          9.34509836e-03,   8.60352664e-03,   8.51053221e-03,\n",
       "          8.11968851e-03,   7.96134322e-03,   7.59160300e-03,\n",
       "          7.26647732e-03,   5.87795171e-03,   5.81424489e-03,\n",
       "          4.66380778e-03,   4.62144751e-03,   4.57158137e-03,\n",
       "          4.48117051e-03,   4.32212913e-03,   4.18212993e-03,\n",
       "          4.07918994e-03,   2.72833329e-03,   2.60233842e-03,\n",
       "          2.27553920e-03,   1.93289503e-03,   1.64461813e-03,\n",
       "          1.42226178e-03,   1.37143003e-03,   1.35138460e-03,\n",
       "          1.13984923e-03,   1.08885089e-03,   1.05591037e-03,\n",
       "          8.56882609e-04,   6.80252238e-04,   6.25335617e-04,\n",
       "          2.69097460e-04,   2.40661845e-04,   1.92259878e-04,\n",
       "          1.86426791e-04,   7.39719354e-05]))"
      ]
     },
     "execution_count": 59,
     "metadata": {},
     "output_type": "execute_result"
    }
   ],
   "source": [
    "fpr, tpr, thresh"
   ]
  },
  {
   "cell_type": "code",
   "execution_count": 60,
   "metadata": {
    "collapsed": false
   },
   "outputs": [
    {
     "data": {
      "image/png": "[encoded data removed]",
      "text/plain": [
       "<matplotlib.figure.Figure at 0x123d2d438>"
      ]
     },
     "metadata": {},
     "output_type": "display_data"
    }
   ],
   "source": [
    "plt.figure()\n",
    "lw = 2\n",
    "plt.plot(fpr, tpr, color='darkorange',\n",
    "         lw=lw, label='ROC curve (area = %0.2f)' % roc_auc_)\n",
    "plt.plot([0, 1], [0, 1], color='navy', lw=lw, linestyle='--')\n",
    "plt.xlim([0.0, 1.0])\n",
    "plt.ylim([0.0, 1.05])\n",
    "plt.xlabel('False Positive Rate')\n",
    "plt.ylabel('True Positive Rate')\n",
    "plt.title('Receiver operating characteristic example')\n",
    "plt.legend(loc=\"lower right\")\n",
    "plt.show()"
   ]
  },
  {
   "cell_type": "code",
   "execution_count": 61,
   "metadata": {
    "collapsed": true
   },
   "outputs": [],
   "source": [
    "with open('twitter-consumer-desire-logreg.pkl', 'wb') as f:\n",
    "    pickle.dump(clf, f, protocol=2)"
   ]
  },
  {
   "cell_type": "markdown",
   "metadata": {},
   "source": [
    "## Pipeline transformer"
   ]
  },
  {
   "cell_type": "code",
   "execution_count": 62,
   "metadata": {
    "collapsed": false
   },
   "outputs": [],
   "source": [
    "import sys\n",
    "import sklearn.base\n",
    "from sklearn.pipeline import Pipeline\n",
    "\n",
    "if sys.version_info.major == 3:\n",
    "    imap = map\n",
    "else:\n",
    "    from itertools import imap\n",
    "\n",
    "class FeatureExtractor(sklearn.base.TransformerMixin):\n",
    "    def __init__(self, funcs):\n",
    "        self.funcs = funcs\n",
    "        \n",
    "    def fit(self, X, y=None):\n",
    "        return self\n",
    "    \n",
    "    def transform(self, X, y=None):\n",
    "        \"\"\"return array of shape [n_samples, n_features]\"\"\"\n",
    "        if isinstance(X, pd.DataFrame):\n",
    "            iter_ = imap(lambda a: a[1], X.iterrows())\n",
    "        else:\n",
    "            iter_ = X\n",
    "        return tuple(tuple(func(i) for key, func in self.funcs.items()) for i in iter_)\n",
    "    \n",
    "    def __getstate__(self):\n",
    "        return self.funcs\n",
    "    \n",
    "    def __setstate__(self, state):\n",
    "        self.funcs = state\n"
   ]
  },
  {
   "cell_type": "code",
   "execution_count": 63,
   "metadata": {
    "collapsed": true
   },
   "outputs": [],
   "source": [
    "feat_extractor = FeatureExtractor(feat_only_per_rec_funcs)\n",
    "clf_logreg = LogisticRegression()\n",
    "clf_pipe = Pipeline([('features', feat_extractor), ('logreg', clf_logreg)])"
   ]
  },
  {
   "cell_type": "code",
   "execution_count": 64,
   "metadata": {
    "collapsed": true
   },
   "outputs": [],
   "source": [
    "X_train2, X_test2, y_train2, y_test2 = train_test_split(\n",
    "    lab_meta,\n",
    "    lab_meta['L_d'],\n",
    "    test_size=0.3,\n",
    "    random_state=0\n",
    ")"
   ]
  },
  {
   "cell_type": "code",
   "execution_count": 65,
   "metadata": {
    "collapsed": false
   },
   "outputs": [
    {
     "data": {
      "text/plain": [
       "Pipeline(steps=[('features', <__main__.FeatureExtractor object at 0x123e91208>), ('logreg', LogisticRegression(C=1.0, class_weight=None, dual=False, fit_intercept=True,\n",
       "          intercept_scaling=1, max_iter=100, multi_class='ovr', n_jobs=1,\n",
       "          penalty='l2', random_state=None, solver='liblinear', tol=0.0001,\n",
       "          verbose=0, warm_start=False))])"
      ]
     },
     "execution_count": 65,
     "metadata": {},
     "output_type": "execute_result"
    }
   ],
   "source": [
    "clf_pipe.fit(X_train2, y_train2)"
   ]
  },
  {
   "cell_type": "code",
   "execution_count": 66,
   "metadata": {
    "collapsed": false
   },
   "outputs": [
    {
     "name": "stderr",
     "output_type": "stream",
     "text": [
      "/Users/shajek/anaconda/envs/py35/lib/python3.5/site-packages/sklearn/utils/deprecation.py:70: DeprecationWarning: Function transform is deprecated; Support to use estimators as feature selectors will be removed in version 0.19. Use SelectFromModel instead.\n",
      "  warnings.warn(msg, category=DeprecationWarning)\n"
     ]
    },
    {
     "data": {
      "text/plain": [
       "array([[0, 0, 1, 0],\n",
       "       [0, 0, 1, 1],\n",
       "       [0, 0, 1, 0],\n",
       "       ..., \n",
       "       [0, 0, 1, 0],\n",
       "       [0, 0, 1, 0],\n",
       "       [0, 0, 1, 1]])"
      ]
     },
     "execution_count": 66,
     "metadata": {},
     "output_type": "execute_result"
    }
   ],
   "source": [
    "clf_pipe.transform(X_test2)"
   ]
  },
  {
   "cell_type": "code",
   "execution_count": 67,
   "metadata": {
    "collapsed": false
   },
   "outputs": [
    {
     "data": {
      "text/plain": [
       "array([[ 0.0694448 ,  0.        , -1.22359403, -1.41072544, -1.7674736 ,\n",
       "        -0.93560492, -2.98306409, -0.15768204, -0.01616832]])"
      ]
     },
     "execution_count": 67,
     "metadata": {},
     "output_type": "execute_result"
    }
   ],
   "source": [
    "clf_pipe.steps[1][1].coef_"
   ]
  },
  {
   "cell_type": "code",
   "execution_count": 68,
   "metadata": {
    "collapsed": false
   },
   "outputs": [
    {
     "data": {
      "text/plain": [
       "0.92942109436954801"
      ]
     },
     "execution_count": 68,
     "metadata": {},
     "output_type": "execute_result"
    }
   ],
   "source": [
    "clf_pipe.score(X_test2, y_test2)"
   ]
  },
  {
   "cell_type": "code",
   "execution_count": 69,
   "metadata": {
    "collapsed": true
   },
   "outputs": [],
   "source": [
    "X_test_proba_pipe = clf_pipe.predict_proba(X_test2)"
   ]
  },
  {
   "cell_type": "code",
   "execution_count": 70,
   "metadata": {
    "collapsed": false
   },
   "outputs": [
    {
     "data": {
      "text/plain": [
       "0.87158832261256802"
      ]
     },
     "execution_count": 70,
     "metadata": {},
     "output_type": "execute_result"
    }
   ],
   "source": [
    "roc_auc_pipe = metrics.roc_auc_score(y_test2, X_test_proba_pipe[:, 1])\n",
    "roc_auc_pipe"
   ]
  },
  {
   "cell_type": "code",
   "execution_count": 71,
   "metadata": {
    "collapsed": false
   },
   "outputs": [
    {
     "data": {
      "image/png": "[encoded data removed]",
      "text/plain": [
       "<matplotlib.figure.Figure at 0x123d411d0>"
      ]
     },
     "metadata": {},
     "output_type": "display_data"
    }
   ],
   "source": [
    "fpr, tpr, thresh = metrics.roc_curve(y_test2, X_test_proba_pipe[:, 1])\n",
    "plt.figure()\n",
    "lw = 2\n",
    "plt.plot(fpr, tpr, color='darkorange',\n",
    "         lw=lw, label='ROC curve (area = %0.2f)' % roc_auc_pipe)\n",
    "plt.plot([0, 1], [0, 1], color='navy', lw=lw, linestyle='--')\n",
    "plt.xlim([0.0, 1.0])\n",
    "plt.ylim([0.0, 1.05])\n",
    "plt.xlabel('False Positive Rate')\n",
    "plt.ylabel('True Positive Rate')\n",
    "plt.title('Receiver operating characteristic example')\n",
    "plt.legend(loc=\"lower right\")\n",
    "plt.show()"
   ]
  },
  {
   "cell_type": "markdown",
   "metadata": {},
   "source": [
    "## Pickle within module"
   ]
  },
  {
   "cell_type": "code",
   "execution_count": 72,
   "metadata": {
    "collapsed": true
   },
   "outputs": [],
   "source": [
    "import imp"
   ]
  },
  {
   "cell_type": "code",
   "execution_count": 73,
   "metadata": {
    "collapsed": false
   },
   "outputs": [],
   "source": [
    "sentiment_service = imp.new_module(\"sentiment_service\")\n",
    "sys.modules['sentiment_service'] = sentiment_service\n",
    "\n",
    "sentiment_service.is_field_nonnull = is_field_nonnull\n",
    "sentiment_service.subfield_getter = subfield_getter\n",
    "sentiment_service.subfield_func_apply = subfield_func_apply\n",
    "sentiment_service.FeatureExtractor = FeatureExtractor\n",
    "sentiment_service.clf_pipe = clf_pipe"
   ]
  },
  {
   "cell_type": "code",
   "execution_count": 74,
   "metadata": {
    "collapsed": false
   },
   "outputs": [
    {
     "data": {
      "text/plain": [
       "True"
      ]
     },
     "execution_count": 74,
     "metadata": {},
     "output_type": "execute_result"
    }
   ],
   "source": [
    "'sentiment_service' in sys.modules"
   ]
  },
  {
   "cell_type": "code",
   "execution_count": 75,
   "metadata": {
    "collapsed": false
   },
   "outputs": [
    {
     "data": {
      "text/plain": [
       "('__main__', '__main__', '__main__', '__main__', 'sklearn.pipeline')"
      ]
     },
     "execution_count": 75,
     "metadata": {},
     "output_type": "execute_result"
    }
   ],
   "source": [
    "(sentiment_service.FeatureExtractor.__module__,\n",
    "sentiment_service.is_field_nonnull.__module__,\n",
    "sentiment_service.subfield_getter.__module__,\n",
    "sentiment_service.subfield_func_apply.__module__,\n",
    "sentiment_service.clf_pipe.__module__,\n",
    ")"
   ]
  },
  {
   "cell_type": "code",
   "execution_count": 76,
   "metadata": {
    "collapsed": true
   },
   "outputs": [],
   "source": [
    "attrs = (\n",
    "    'FeatureExtractor', \n",
    "    'is_field_nonnull', \n",
    "    'subfield_getter', \n",
    "    'subfield_func_apply', \n",
    ")"
   ]
  },
  {
   "cell_type": "code",
   "execution_count": 77,
   "metadata": {
    "collapsed": true
   },
   "outputs": [],
   "source": [
    "for _a in attrs:\n",
    "    getattr(sentiment_service, _a).__module__ = 'sentiment_service'"
   ]
  },
  {
   "cell_type": "code",
   "execution_count": 78,
   "metadata": {
    "collapsed": false
   },
   "outputs": [],
   "source": [
    "with open('twitter-consumer-desire-pipe.pkl', 'wb') as f:\n",
    "    pickle.dump(sentiment_service.clf_pipe, f, protocol=2)"
   ]
  },
  {
   "cell_type": "code",
   "execution_count": null,
   "metadata": {
    "collapsed": true
   },
   "outputs": [],
   "source": []
  }
 ],
 "metadata": {
  "anaconda-cloud": {},
  "kernelspec": {
   "display_name": "Python [conda env:py35]",
   "language": "python",
   "name": "conda-env-py35-py"
  },
  "language_info": {
   "codemirror_mode": {
    "name": "ipython",
    "version": 3
   },
   "file_extension": ".py",
   "mimetype": "text/x-python",
   "name": "python",
   "nbconvert_exporter": "python",
   "pygments_lexer": "ipython3",
   "version": "3.5.2"
  }
 },
 "nbformat": 4,
 "nbformat_minor": 0
}
