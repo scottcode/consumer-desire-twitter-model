{
 "cells": [
  {
   "cell_type": "code",
   "execution_count": 1,
   "metadata": {
    "collapsed": false
   },
   "outputs": [
    {
     "name": "stderr",
     "output_type": "stream",
     "text": [
      "/Users/shajek/anaconda/lib/python2.7/site-packages/matplotlib/font_manager.py:273: UserWarning: Matplotlib is building the font cache using fc-list. This may take a moment.\n",
      "  warnings.warn('Matplotlib is building the font cache using fc-list. This may take a moment.')\n"
     ]
    }
   ],
   "source": [
    "%matplotlib inline\n",
    "\n",
    "import os\n",
    "import re\n",
    "from gzip import GzipFile\n",
    "import json\n",
    "\n",
    "from pprint import pprint\n",
    "import pandas as pd\n",
    "import numpy as np\n",
    "import matplotlib.pyplot as plt\n",
    "import seaborn as sns"
   ]
  },
  {
   "cell_type": "code",
   "execution_count": 2,
   "metadata": {
    "collapsed": true
   },
   "outputs": [],
   "source": [
    "DATDIR = \".\"\n",
    "DATFILES = [\n",
    "    \"teslatweet_2017-1-5.gz\",\n",
    "    \"teslatweet_2017-1-6.gz\",\n",
    "]\n",
    "DATFILE = \"teslatweet_2017-1-5.gz\"\n",
    "DATPATH = os.path.join(DATDIR, DATFILE)"
   ]
  },
  {
   "cell_type": "code",
   "execution_count": 3,
   "metadata": {
    "collapsed": true
   },
   "outputs": [],
   "source": [
    "rawlines = []\n",
    "for F in DATFILES:\n",
    "    with GzipFile(os.path.join(DATDIR, F)) as f:\n",
    "        rawlines.extend(f.readlines())"
   ]
  },
  {
   "cell_type": "code",
   "execution_count": 4,
   "metadata": {
    "collapsed": false
   },
   "outputs": [
    {
     "data": {
      "text/plain": [
       "(9172, 53131676)"
      ]
     },
     "execution_count": 4,
     "metadata": {},
     "output_type": "execute_result"
    }
   ],
   "source": [
    "len(rawlines), sum(map(len, rawlines))"
   ]
  },
  {
   "cell_type": "code",
   "execution_count": 5,
   "metadata": {
    "collapsed": true
   },
   "outputs": [],
   "source": [
    "records = map(json.loads, rawlines)"
   ]
  },
  {
   "cell_type": "code",
   "execution_count": 6,
   "metadata": {
    "collapsed": true
   },
   "outputs": [],
   "source": [
    "df = pd.DataFrame.from_records(records, index='id')"
   ]
  },
  {
   "cell_type": "code",
   "execution_count": 7,
   "metadata": {
    "collapsed": false
   },
   "outputs": [
    {
     "name": "stdout",
     "output_type": "stream",
     "text": [
      "<class 'pandas.core.frame.DataFrame'>\n",
      "Int64Index: 9172 entries, 817102013230153728 to 817516995734343681\n",
      "Data columns (total 32 columns):\n",
      "contributors                 0 non-null object\n",
      "coordinates                  6 non-null object\n",
      "created_at                   9172 non-null object\n",
      "display_text_range           1360 non-null object\n",
      "entities                     9172 non-null object\n",
      "extended_entities            3638 non-null object\n",
      "extended_tweet               233 non-null object\n",
      "favorite_count               9172 non-null int64\n",
      "favorited                    9172 non-null bool\n",
      "filter_level                 9172 non-null object\n",
      "geo                          6 non-null object\n",
      "id_str                       9172 non-null object\n",
      "in_reply_to_screen_name      448 non-null object\n",
      "in_reply_to_status_id        328 non-null float64\n",
      "in_reply_to_status_id_str    328 non-null object\n",
      "in_reply_to_user_id          448 non-null float64\n",
      "in_reply_to_user_id_str      448 non-null object\n",
      "is_quote_status              9172 non-null bool\n",
      "lang                         9172 non-null object\n",
      "place                        91 non-null object\n",
      "possibly_sensitive           7104 non-null object\n",
      "quoted_status                613 non-null object\n",
      "quoted_status_id             613 non-null float64\n",
      "quoted_status_id_str         613 non-null object\n",
      "retweet_count                9172 non-null int64\n",
      "retweeted                    9172 non-null bool\n",
      "retweeted_status             5275 non-null object\n",
      "source                       9172 non-null object\n",
      "text                         9172 non-null object\n",
      "timestamp_ms                 9172 non-null object\n",
      "truncated                    9172 non-null bool\n",
      "user                         9172 non-null object\n",
      "dtypes: bool(4), float64(3), int64(2), object(23)\n",
      "memory usage: 2.1+ MB\n"
     ]
    }
   ],
   "source": [
    "df.info()"
   ]
  },
  {
   "cell_type": "code",
   "execution_count": 9,
   "metadata": {
    "collapsed": false,
    "scrolled": true
   },
   "outputs": [
    {
     "data": {
      "text/plain": [
       "{u'contributors_enabled': False,\n",
       " u'created_at': u'Wed May 23 15:11:47 +0000 2012',\n",
       " u'default_profile': False,\n",
       " u'default_profile_image': False,\n",
       " u'description': u'La place de march\\xe9 de la voiture #hybride et #\\xe9lectrique',\n",
       " u'favourites_count': 6213,\n",
       " u'follow_request_sent': None,\n",
       " u'followers_count': 1958,\n",
       " u'following': None,\n",
       " u'friends_count': 482,\n",
       " u'geo_enabled': False,\n",
       " u'id': 588438255,\n",
       " u'id_str': u'588438255',\n",
       " u'is_translator': False,\n",
       " u'lang': u'fr',\n",
       " u'listed_count': 138,\n",
       " u'location': u'Paris, France',\n",
       " u'name': u'Breezcar',\n",
       " u'notifications': None,\n",
       " u'profile_background_color': u'C0DEED',\n",
       " u'profile_background_image_url': u'http://pbs.twimg.com/profile_background_images/860756868/c68cfacd4bccdb757df79f140eea9067.jpeg',\n",
       " u'profile_background_image_url_https': u'https://pbs.twimg.com/profile_background_images/860756868/c68cfacd4bccdb757df79f140eea9067.jpeg',\n",
       " u'profile_background_tile': False,\n",
       " u'profile_banner_url': u'https://pbs.twimg.com/profile_banners/588438255/1367741772',\n",
       " u'profile_image_url': u'http://pbs.twimg.com/profile_images/378800000019004374/e7b3d91e3a2236b8f26dc508f0e213bc_normal.png',\n",
       " u'profile_image_url_https': u'https://pbs.twimg.com/profile_images/378800000019004374/e7b3d91e3a2236b8f26dc508f0e213bc_normal.png',\n",
       " u'profile_link_color': u'0084B4',\n",
       " u'profile_sidebar_border_color': u'FFFFFF',\n",
       " u'profile_sidebar_fill_color': u'DDEEF6',\n",
       " u'profile_text_color': u'333333',\n",
       " u'profile_use_background_image': True,\n",
       " u'protected': False,\n",
       " u'screen_name': u'Breezcar_FR',\n",
       " u'statuses_count': 6458,\n",
       " u'time_zone': u'Paris',\n",
       " u'url': u'http://www.breezcar.com',\n",
       " u'utc_offset': 3600,\n",
       " u'verified': False}"
      ]
     },
     "execution_count": 9,
     "metadata": {},
     "output_type": "execute_result"
    }
   ],
   "source": [
    "df['user'].iloc[0]"
   ]
  },
  {
   "cell_type": "code",
   "execution_count": 8,
   "metadata": {
    "collapsed": false
   },
   "outputs": [],
   "source": [
    "user_df = pd.DataFrame.from_items(df['user'].iteritems()).T"
   ]
  },
  {
   "cell_type": "code",
   "execution_count": 9,
   "metadata": {
    "collapsed": false
   },
   "outputs": [
    {
     "name": "stdout",
     "output_type": "stream",
     "text": [
      "<class 'pandas.core.frame.DataFrame'>\n",
      "Int64Index: 9172 entries, 817102013230153728 to 817516995734343681\n",
      "Data columns (total 38 columns):\n",
      "contributors_enabled                  9172 non-null object\n",
      "created_at                            9172 non-null object\n",
      "default_profile                       9172 non-null object\n",
      "default_profile_image                 9172 non-null object\n",
      "description                           8129 non-null object\n",
      "favourites_count                      9172 non-null object\n",
      "follow_request_sent                   0 non-null object\n",
      "followers_count                       9172 non-null object\n",
      "following                             0 non-null object\n",
      "friends_count                         9172 non-null object\n",
      "geo_enabled                           9172 non-null object\n",
      "id                                    9172 non-null object\n",
      "id_str                                9172 non-null object\n",
      "is_translator                         9172 non-null object\n",
      "lang                                  9172 non-null object\n",
      "listed_count                          9172 non-null object\n",
      "location                              6640 non-null object\n",
      "name                                  9172 non-null object\n",
      "notifications                         0 non-null object\n",
      "profile_background_color              9172 non-null object\n",
      "profile_background_image_url          9172 non-null object\n",
      "profile_background_image_url_https    9172 non-null object\n",
      "profile_background_tile               9172 non-null object\n",
      "profile_banner_url                    7489 non-null object\n",
      "profile_image_url                     9172 non-null object\n",
      "profile_image_url_https               9172 non-null object\n",
      "profile_link_color                    9172 non-null object\n",
      "profile_sidebar_border_color          9172 non-null object\n",
      "profile_sidebar_fill_color            9172 non-null object\n",
      "profile_text_color                    9172 non-null object\n",
      "profile_use_background_image          9172 non-null object\n",
      "protected                             9172 non-null object\n",
      "screen_name                           9172 non-null object\n",
      "statuses_count                        9172 non-null object\n",
      "time_zone                             6049 non-null object\n",
      "url                                   4159 non-null object\n",
      "utc_offset                            6049 non-null object\n",
      "verified                              9172 non-null object\n",
      "dtypes: object(38)\n",
      "memory usage: 2.7+ MB\n"
     ]
    }
   ],
   "source": [
    "user_df.info()"
   ]
  },
  {
   "cell_type": "code",
   "execution_count": 10,
   "metadata": {
    "collapsed": true
   },
   "outputs": [],
   "source": [
    "user_df.columns = ['user_' + c for c in user_df.columns]"
   ]
  },
  {
   "cell_type": "code",
   "execution_count": 11,
   "metadata": {
    "collapsed": true
   },
   "outputs": [],
   "source": [
    "df2 = pd.concat([df, user_df], axis=1)"
   ]
  },
  {
   "cell_type": "code",
   "execution_count": 12,
   "metadata": {
    "collapsed": false
   },
   "outputs": [
    {
     "name": "stdout",
     "output_type": "stream",
     "text": [
      "<class 'pandas.core.frame.DataFrame'>\n",
      "Int64Index: 9172 entries, 817102013230153728 to 817516995734343681\n",
      "Data columns (total 70 columns):\n",
      "contributors                               0 non-null object\n",
      "coordinates                                6 non-null object\n",
      "created_at                                 9172 non-null object\n",
      "display_text_range                         1360 non-null object\n",
      "entities                                   9172 non-null object\n",
      "extended_entities                          3638 non-null object\n",
      "extended_tweet                             233 non-null object\n",
      "favorite_count                             9172 non-null int64\n",
      "favorited                                  9172 non-null bool\n",
      "filter_level                               9172 non-null object\n",
      "geo                                        6 non-null object\n",
      "id_str                                     9172 non-null object\n",
      "in_reply_to_screen_name                    448 non-null object\n",
      "in_reply_to_status_id                      328 non-null float64\n",
      "in_reply_to_status_id_str                  328 non-null object\n",
      "in_reply_to_user_id                        448 non-null float64\n",
      "in_reply_to_user_id_str                    448 non-null object\n",
      "is_quote_status                            9172 non-null bool\n",
      "lang                                       9172 non-null object\n",
      "place                                      91 non-null object\n",
      "possibly_sensitive                         7104 non-null object\n",
      "quoted_status                              613 non-null object\n",
      "quoted_status_id                           613 non-null float64\n",
      "quoted_status_id_str                       613 non-null object\n",
      "retweet_count                              9172 non-null int64\n",
      "retweeted                                  9172 non-null bool\n",
      "retweeted_status                           5275 non-null object\n",
      "source                                     9172 non-null object\n",
      "text                                       9172 non-null object\n",
      "timestamp_ms                               9172 non-null object\n",
      "truncated                                  9172 non-null bool\n",
      "user                                       9172 non-null object\n",
      "user_contributors_enabled                  9172 non-null object\n",
      "user_created_at                            9172 non-null object\n",
      "user_default_profile                       9172 non-null object\n",
      "user_default_profile_image                 9172 non-null object\n",
      "user_description                           8129 non-null object\n",
      "user_favourites_count                      9172 non-null object\n",
      "user_follow_request_sent                   0 non-null object\n",
      "user_followers_count                       9172 non-null object\n",
      "user_following                             0 non-null object\n",
      "user_friends_count                         9172 non-null object\n",
      "user_geo_enabled                           9172 non-null object\n",
      "user_id                                    9172 non-null object\n",
      "user_id_str                                9172 non-null object\n",
      "user_is_translator                         9172 non-null object\n",
      "user_lang                                  9172 non-null object\n",
      "user_listed_count                          9172 non-null object\n",
      "user_location                              6640 non-null object\n",
      "user_name                                  9172 non-null object\n",
      "user_notifications                         0 non-null object\n",
      "user_profile_background_color              9172 non-null object\n",
      "user_profile_background_image_url          9172 non-null object\n",
      "user_profile_background_image_url_https    9172 non-null object\n",
      "user_profile_background_tile               9172 non-null object\n",
      "user_profile_banner_url                    7489 non-null object\n",
      "user_profile_image_url                     9172 non-null object\n",
      "user_profile_image_url_https               9172 non-null object\n",
      "user_profile_link_color                    9172 non-null object\n",
      "user_profile_sidebar_border_color          9172 non-null object\n",
      "user_profile_sidebar_fill_color            9172 non-null object\n",
      "user_profile_text_color                    9172 non-null object\n",
      "user_profile_use_background_image          9172 non-null object\n",
      "user_protected                             9172 non-null object\n",
      "user_screen_name                           9172 non-null object\n",
      "user_statuses_count                        9172 non-null object\n",
      "user_time_zone                             6049 non-null object\n",
      "user_url                                   4159 non-null object\n",
      "user_utc_offset                            6049 non-null object\n",
      "user_verified                              9172 non-null object\n",
      "dtypes: bool(4), float64(3), int64(2), object(61)\n",
      "memory usage: 4.7+ MB\n"
     ]
    }
   ],
   "source": [
    "df2.info()"
   ]
  },
  {
   "cell_type": "code",
   "execution_count": 13,
   "metadata": {
    "collapsed": false
   },
   "outputs": [
    {
     "data": {
      "text/plain": [
       "False    9075\n",
       "True       97\n",
       "Name: user_verified, dtype: int64"
      ]
     },
     "execution_count": 13,
     "metadata": {},
     "output_type": "execute_result"
    }
   ],
   "source": [
    "df2['user_verified'].value_counts()"
   ]
  },
  {
   "cell_type": "code",
   "execution_count": 14,
   "metadata": {
    "collapsed": false
   },
   "outputs": [
    {
     "data": {
      "text/plain": [
       "8062"
      ]
     },
     "execution_count": 14,
     "metadata": {},
     "output_type": "execute_result"
    }
   ],
   "source": [
    "len(df2['user_id'].unique())"
   ]
  },
  {
   "cell_type": "code",
   "execution_count": 15,
   "metadata": {
    "collapsed": false
   },
   "outputs": [
    {
     "data": {
      "text/plain": [
       "<matplotlib.axes._subplots.AxesSubplot at 0x12bf471d0>"
      ]
     },
     "execution_count": 15,
     "metadata": {},
     "output_type": "execute_result"
    },
    {
     "data": {
      "image/png": "[encoded data removed]",
      "text/plain": [
       "<matplotlib.figure.Figure at 0x12cc128d0>"
      ]
     },
     "metadata": {},
     "output_type": "display_data"
    }
   ],
   "source": [
    "df2['user_id'].value_counts().hist(bins=15, log=True)"
   ]
  },
  {
   "cell_type": "code",
   "execution_count": 16,
   "metadata": {
    "collapsed": false
   },
   "outputs": [
    {
     "data": {
      "text/plain": [
       "19730963              32\n",
       "23392365              29\n",
       "751736611260338176    19\n",
       "712213086879490048    18\n",
       "2394132894            16\n",
       "Name: user_id, dtype: int64"
      ]
     },
     "execution_count": 16,
     "metadata": {},
     "output_type": "execute_result"
    }
   ],
   "source": [
    "df2['user_id'].value_counts().head()"
   ]
  },
  {
   "cell_type": "code",
   "execution_count": 17,
   "metadata": {
    "collapsed": false
   },
   "outputs": [
    {
     "data": {
      "text/plain": [
       "{u'hashtags': [],\n",
       " u'symbols': [],\n",
       " u'urls': [{u'display_url': u'dlvr.it/N2h0Bv',\n",
       "   u'expanded_url': u'http://dlvr.it/N2h0Bv',\n",
       "   u'indices': [93, 116],\n",
       "   u'url': u'https://t.co/a7sbkgAp8D'}],\n",
       " u'user_mentions': [{u'id': 11660792,\n",
       "   u'id_str': u'11660792',\n",
       "   u'indices': [3, 17],\n",
       "   u'name': u'Mehdi Tebourbi',\n",
       "   u'screen_name': u'TremendousNet'}]}"
      ]
     },
     "execution_count": 17,
     "metadata": {},
     "output_type": "execute_result"
    }
   ],
   "source": [
    "df2['entities'].iloc[0]"
   ]
  },
  {
   "cell_type": "code",
   "execution_count": 19,
   "metadata": {
    "collapsed": false
   },
   "outputs": [
    {
     "data": {
      "text/plain": [
       "0    9172\n",
       "Name: favorite_count, dtype: int64"
      ]
     },
     "execution_count": 19,
     "metadata": {},
     "output_type": "execute_result"
    }
   ],
   "source": [
    "df2['favorite_count'].value_counts()"
   ]
  },
  {
   "cell_type": "code",
   "execution_count": 20,
   "metadata": {
    "collapsed": false
   },
   "outputs": [
    {
     "data": {
      "text/plain": [
       "False    9172\n",
       "Name: retweeted, dtype: int64"
      ]
     },
     "execution_count": 20,
     "metadata": {},
     "output_type": "execute_result"
    }
   ],
   "source": [
    "df2['retweeted'].value_counts()"
   ]
  },
  {
   "cell_type": "code",
   "execution_count": 21,
   "metadata": {
    "collapsed": false
   },
   "outputs": [
    {
     "data": {
      "text/plain": [
       "<matplotlib.text.Text at 0x12bed0310>"
      ]
     },
     "execution_count": 21,
     "metadata": {},
     "output_type": "execute_result"
    },
    {
     "data": {
      "image/png": "[encoded data removed]",
      "text/plain": [
       "<matplotlib.figure.Figure at 0x12cb63ad0>"
      ]
     },
     "metadata": {},
     "output_type": "display_data"
    }
   ],
   "source": [
    "df2['user_statuses_count'].map(np.log10).hist()\n",
    "plt.xlabel('User statuses count (log10)')\n",
    "plt.ylabel('Number of users')"
   ]
  },
  {
   "cell_type": "code",
   "execution_count": 22,
   "metadata": {
    "collapsed": false
   },
   "outputs": [
    {
     "data": {
      "text/plain": [
       "6458"
      ]
     },
     "execution_count": 22,
     "metadata": {},
     "output_type": "execute_result"
    }
   ],
   "source": [
    "df2['user_statuses_count'].iloc[0]"
   ]
  },
  {
   "cell_type": "code",
   "execution_count": 23,
   "metadata": {
    "collapsed": false
   },
   "outputs": [
    {
     "data": {
      "text/plain": [
       "True     5300\n",
       "False    3872\n",
       "Name: text, dtype: int64"
      ]
     },
     "execution_count": 23,
     "metadata": {},
     "output_type": "execute_result"
    }
   ],
   "source": [
    "# re-tweets\n",
    "df2['text'].str.startswith('RT').value_counts()"
   ]
  },
  {
   "cell_type": "code",
   "execution_count": 24,
   "metadata": {
    "collapsed": false
   },
   "outputs": [
    {
     "data": {
      "text/plain": [
       "id\n",
       "817102013230153728    RT @TremendousNet: Tesla : l'usine de batterie...\n",
       "817102020779839489    RT @UlricDabe: Belgium sales #febiac : More #T...\n",
       "817102031420870656    RT @GN_Nordhorn: #Papenburg und #Dörpen bewerb...\n",
       "817102036516814849    RT @ReformedBroker: If you drive off in a stol...\n",
       "817102041835339777    RT @TeslaMotors: Battery Cell Production Begin...\n",
       "Name: text, dtype: object"
      ]
     },
     "execution_count": 24,
     "metadata": {},
     "output_type": "execute_result"
    }
   ],
   "source": [
    "df2.ix[df2['text'].str.startswith('RT'), 'text'].head()"
   ]
  },
  {
   "cell_type": "code",
   "execution_count": 25,
   "metadata": {
    "collapsed": false
   },
   "outputs": [
    {
     "data": {
      "text/plain": [
       "(9172, 70)"
      ]
     },
     "execution_count": 25,
     "metadata": {},
     "output_type": "execute_result"
    }
   ],
   "source": [
    "df2.shape"
   ]
  },
  {
   "cell_type": "code",
   "execution_count": 26,
   "metadata": {
    "collapsed": false
   },
   "outputs": [
    {
     "data": {
      "text/plain": [
       "4695"
      ]
     },
     "execution_count": 26,
     "metadata": {},
     "output_type": "execute_result"
    }
   ],
   "source": [
    "len(df2['text'].unique())"
   ]
  },
  {
   "cell_type": "code",
   "execution_count": 27,
   "metadata": {
    "collapsed": true
   },
   "outputs": [],
   "source": [
    "RT = re.compile(r'^RT ')\n",
    "RT_func = lambda x: RT.sub('', x)"
   ]
  },
  {
   "cell_type": "code",
   "execution_count": 28,
   "metadata": {
    "collapsed": true
   },
   "outputs": [],
   "source": [
    "text_no_RT = df2['text'].map(RT_func)"
   ]
  },
  {
   "cell_type": "code",
   "execution_count": 29,
   "metadata": {
    "collapsed": false
   },
   "outputs": [
    {
     "data": {
      "text/plain": [
       "id\n",
       "817102013230153728    @TremendousNet: Tesla : l'usine de batteries G...\n",
       "817102014463279105    Tesla Model S fleet helps Uber show its green ...\n",
       "817102020779839489    @UlricDabe: Belgium sales #febiac : More #Tesl...\n",
       "817102022638006272    @AlfonsWispels Ja, dat. Of ik ken het hele AC ...\n",
       "817102031420870656    @GN_Nordhorn: #Papenburg und #Dörpen bewerben ...\n",
       "Name: text, dtype: object"
      ]
     },
     "execution_count": 29,
     "metadata": {},
     "output_type": "execute_result"
    }
   ],
   "source": [
    "text_no_RT.head()"
   ]
  },
  {
   "cell_type": "code",
   "execution_count": 30,
   "metadata": {
    "collapsed": false
   },
   "outputs": [
    {
     "data": {
      "text/plain": [
       "False    9172\n",
       "Name: text, dtype: int64"
      ]
     },
     "execution_count": 30,
     "metadata": {},
     "output_type": "execute_result"
    }
   ],
   "source": [
    "text_no_RT.str.startswith('RT ').value_counts()"
   ]
  },
  {
   "cell_type": "code",
   "execution_count": 31,
   "metadata": {
    "collapsed": false
   },
   "outputs": [
    {
     "data": {
      "text/plain": [
       "4695"
      ]
     },
     "execution_count": 31,
     "metadata": {},
     "output_type": "execute_result"
    }
   ],
   "source": [
    "len(text_no_RT.unique())"
   ]
  },
  {
   "cell_type": "markdown",
   "metadata": {},
   "source": [
    "Same number of unique, so there are no messages that appear as both the original and as re-tweets"
   ]
  },
  {
   "cell_type": "markdown",
   "metadata": {
    "collapsed": true
   },
   "source": [
    "# Make random sample/ordering for labeling"
   ]
  },
  {
   "cell_type": "code",
   "execution_count": 32,
   "metadata": {
    "collapsed": false
   },
   "outputs": [
    {
     "data": {
      "text/plain": [
       "(9172, 70)"
      ]
     },
     "execution_count": 32,
     "metadata": {},
     "output_type": "execute_result"
    }
   ],
   "source": [
    "df2.shape"
   ]
  },
  {
   "cell_type": "code",
   "execution_count": 33,
   "metadata": {
    "collapsed": false
   },
   "outputs": [],
   "source": [
    "df2['rand'] = np.random.rand(df2.shape[0])"
   ]
  },
  {
   "cell_type": "code",
   "execution_count": 34,
   "metadata": {
    "collapsed": true
   },
   "outputs": [],
   "source": [
    "df2_rand = df2.sort_values(by='rand', inplace=False)"
   ]
  },
  {
   "cell_type": "code",
   "execution_count": 35,
   "metadata": {
    "collapsed": false
   },
   "outputs": [],
   "source": [
    "df2_rand_nodups = df2_rand.ix[~ df2_rand.text.duplicated()]"
   ]
  },
  {
   "cell_type": "code",
   "execution_count": 37,
   "metadata": {
    "collapsed": false
   },
   "outputs": [],
   "source": [
    "df2_rand_nodups.loc[:, 'labels'] = ''"
   ]
  },
  {
   "cell_type": "code",
   "execution_count": 38,
   "metadata": {
    "collapsed": false
   },
   "outputs": [
    {
     "data": {
      "text/plain": [
       "(4695, 72)"
      ]
     },
     "execution_count": 38,
     "metadata": {},
     "output_type": "execute_result"
    }
   ],
   "source": [
    "df2_rand_nodups.shape"
   ]
  },
  {
   "cell_type": "markdown",
   "metadata": {},
   "source": [
    "## Write tweets sample to CSV\n",
    "\n",
    "For subsequent manual labeling."
   ]
  },
  {
   "cell_type": "code",
   "execution_count": 39,
   "metadata": {
    "collapsed": true
   },
   "outputs": [],
   "source": [
    "cols_basic = [\n",
    "    'id_str',\n",
    "    'created_at',\n",
    "    'user_name',\n",
    "    'user_screen_name',\n",
    "    'user_protected',\n",
    "    'user_verified',\n",
    "    'lang',\n",
    "    'labels',\n",
    "    'text',\n",
    "]"
   ]
  },
  {
   "cell_type": "code",
   "execution_count": null,
   "metadata": {
    "collapsed": false
   },
   "outputs": [],
   "source": [
    "_csv_fname = 'tesla_tweets_rand_for_label_2017-1-6.csv'\n",
    "df2_rand_nodups.ix[:, cols_basic].to_csv(\n",
    "    _csv_fname, \n",
    "    index=False,\n",
    "    encoding='utf-8'\n",
    ")"
   ]
  }
 ],
 "metadata": {
  "anaconda-cloud": {},
  "kernelspec": {
   "display_name": "Python [conda root]",
   "language": "python",
   "name": "conda-root-py"
  },
  "language_info": {
   "codemirror_mode": {
    "name": "ipython",
    "version": 2
   },
   "file_extension": ".py",
   "mimetype": "text/x-python",
   "name": "python",
   "nbconvert_exporter": "python",
   "pygments_lexer": "ipython2",
   "version": "2.7.12"
  }
 },
 "nbformat": 4,
 "nbformat_minor": 0
}
